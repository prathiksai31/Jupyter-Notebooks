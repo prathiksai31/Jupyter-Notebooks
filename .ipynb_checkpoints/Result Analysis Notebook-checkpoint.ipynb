{
 "cells": [
  {
   "cell_type": "markdown",
   "metadata": {},
   "source": [
    "# TE-ETRX Results Analysis"
   ]
  },
  {
   "cell_type": "code",
   "execution_count": 4,
   "metadata": {},
   "outputs": [],
   "source": [
    "import pandas as pd\n",
    "import matplotlib.pyplot as plt"
   ]
  },
  {
   "cell_type": "code",
   "execution_count": 5,
   "metadata": {},
   "outputs": [
    {
     "data": {
      "text/html": [
       "<div>\n",
       "<style scoped>\n",
       "    .dataframe tbody tr th:only-of-type {\n",
       "        vertical-align: middle;\n",
       "    }\n",
       "\n",
       "    .dataframe tbody tr th {\n",
       "        vertical-align: top;\n",
       "    }\n",
       "\n",
       "    .dataframe thead th {\n",
       "        text-align: right;\n",
       "    }\n",
       "</style>\n",
       "<table border=\"1\" class=\"dataframe\">\n",
       "  <thead>\n",
       "    <tr style=\"text-align: right;\">\n",
       "      <th></th>\n",
       "      <th>2</th>\n",
       "      <th>3</th>\n",
       "      <th>8</th>\n",
       "      <th>12</th>\n",
       "      <th>16</th>\n",
       "      <th>20</th>\n",
       "      <th>24</th>\n",
       "      <th>28</th>\n",
       "      <th>31</th>\n",
       "      <th>34</th>\n",
       "      <th>37</th>\n",
       "      <th>40</th>\n",
       "      <th>43</th>\n",
       "    </tr>\n",
       "  </thead>\n",
       "  <tbody>\n",
       "    <tr>\n",
       "      <th>0</th>\n",
       "      <td>Atre</td>\n",
       "      <td>Prutha</td>\n",
       "      <td>84</td>\n",
       "      <td>93</td>\n",
       "      <td>80</td>\n",
       "      <td>69</td>\n",
       "      <td>85</td>\n",
       "      <td>68</td>\n",
       "      <td>53</td>\n",
       "      <td>27</td>\n",
       "      <td>28</td>\n",
       "      <td>54</td>\n",
       "      <td>98</td>\n",
       "    </tr>\n",
       "    <tr>\n",
       "      <th>1</th>\n",
       "      <td>Barwaniwala</td>\n",
       "      <td>Abbas</td>\n",
       "      <td>86</td>\n",
       "      <td>96</td>\n",
       "      <td>97</td>\n",
       "      <td>83</td>\n",
       "      <td>89</td>\n",
       "      <td>76</td>\n",
       "      <td>57</td>\n",
       "      <td>28</td>\n",
       "      <td>29</td>\n",
       "      <td>58</td>\n",
       "      <td>91</td>\n",
       "    </tr>\n",
       "    <tr>\n",
       "      <th>2</th>\n",
       "      <td>Bhagat</td>\n",
       "      <td>Sahil</td>\n",
       "      <td>48</td>\n",
       "      <td>81</td>\n",
       "      <td>59</td>\n",
       "      <td>42</td>\n",
       "      <td>52</td>\n",
       "      <td>50</td>\n",
       "      <td>51</td>\n",
       "      <td>28</td>\n",
       "      <td>29</td>\n",
       "      <td>57</td>\n",
       "      <td>98</td>\n",
       "    </tr>\n",
       "    <tr>\n",
       "      <th>3</th>\n",
       "      <td>Deshpande</td>\n",
       "      <td>Varun</td>\n",
       "      <td>69</td>\n",
       "      <td>85</td>\n",
       "      <td>45</td>\n",
       "      <td>48</td>\n",
       "      <td>74</td>\n",
       "      <td>67</td>\n",
       "      <td>41</td>\n",
       "      <td>28</td>\n",
       "      <td>27</td>\n",
       "      <td>53</td>\n",
       "      <td>40</td>\n",
       "    </tr>\n",
       "    <tr>\n",
       "      <th>4</th>\n",
       "      <td>Dongre</td>\n",
       "      <td>Isha</td>\n",
       "      <td>66</td>\n",
       "      <td>84</td>\n",
       "      <td>72</td>\n",
       "      <td>56</td>\n",
       "      <td>68</td>\n",
       "      <td>60</td>\n",
       "      <td>44</td>\n",
       "      <td>27</td>\n",
       "      <td>27</td>\n",
       "      <td>52</td>\n",
       "      <td>92</td>\n",
       "    </tr>\n",
       "  </tbody>\n",
       "</table>\n",
       "</div>"
      ],
      "text/plain": [
       "            2       3   8   12  16  20  24  28  31  34  37  40  43\n",
       "0         Atre  Prutha  84  93  80  69  85  68  53  27  28  54  98\n",
       "1  Barwaniwala   Abbas  86  96  97  83  89  76  57  28  29  58  91\n",
       "2       Bhagat   Sahil  48  81  59  42  52  50  51  28  29  57  98\n",
       "3    Deshpande   Varun  69  85  45  48  74  67  41  28  27  53  40\n",
       "4       Dongre    Isha  66  84  72  56  68  60  44  27  27  52  92"
      ]
     },
     "execution_count": 5,
     "metadata": {},
     "output_type": "execute_result"
    }
   ],
   "source": [
    "my_data = pd.read_csv('Data.csv',header=None, usecols=[2,3,8,12,16,20,24,28,31,34,37,40,43], sep=',')\n",
    "my_data.head(5)"
   ]
  },
  {
   "cell_type": "code",
   "execution_count": 6,
   "metadata": {},
   "outputs": [],
   "source": [
    "my_data.columns = ['First name','Last name','BVLSI', 'AIS','CO','PE','DSPP','MITM','BVLSI_LAB','AIS_LAB','PE_LAB','DSPP_LAB','MP1']\n",
    "#my_data"
   ]
  },
  {
   "cell_type": "code",
   "execution_count": 8,
   "metadata": {},
   "outputs": [
    {
     "data": {
      "text/plain": [
       "70.28947368421052"
      ]
     },
     "execution_count": 8,
     "metadata": {},
     "output_type": "execute_result"
    }
   ],
   "source": [
    "my_data[\"BVLSI\"].mean()"
   ]
  },
  {
   "cell_type": "code",
   "execution_count": null,
   "metadata": {},
   "outputs": [],
   "source": []
  }
 ],
 "metadata": {
  "kernelspec": {
   "display_name": "Python 3",
   "language": "python",
   "name": "python3"
  },
  "language_info": {
   "codemirror_mode": {
    "name": "ipython",
    "version": 3
   },
   "file_extension": ".py",
   "mimetype": "text/x-python",
   "name": "python",
   "nbconvert_exporter": "python",
   "pygments_lexer": "ipython3",
   "version": "3.6.5"
  }
 },
 "nbformat": 4,
 "nbformat_minor": 2
}
